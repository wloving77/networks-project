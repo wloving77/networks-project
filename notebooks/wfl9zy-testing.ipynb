{
 "cells": [
  {
   "cell_type": "code",
   "execution_count": 1,
   "id": "07e939ed-fe2b-4630-8039-06543bae68e7",
   "metadata": {},
   "outputs": [],
   "source": [
    "from p4utils.mininetlib.network_API import NetworkAPI"
   ]
  },
  {
   "cell_type": "code",
   "execution_count": 2,
   "id": "b4e186fd-fb45-4503-9c29-893e42fa576b",
   "metadata": {},
   "outputs": [],
   "source": [
    "net = NetworkAPI()"
   ]
  },
  {
   "cell_type": "code",
   "execution_count": 3,
   "id": "995b2d01-7261-4736-ade6-86eedcae6585",
   "metadata": {},
   "outputs": [],
   "source": [
    "net.setLogLevel('info')"
   ]
  },
  {
   "cell_type": "code",
   "execution_count": 4,
   "id": "1aff8baa-2d60-4208-8284-ecb56b9a7cad",
   "metadata": {},
   "outputs": [
    {
     "data": {
      "text/plain": [
       "'h4'"
      ]
     },
     "execution_count": 4,
     "metadata": {},
     "output_type": "execute_result"
    }
   ],
   "source": [
    "net.addP4Switch('s1')\n",
    "net.addHost('h1')\n",
    "net.addHost('h2')\n",
    "net.addHost('h3')\n",
    "net.addHost('h4')"
   ]
  },
  {
   "cell_type": "code",
   "execution_count": 5,
   "id": "121769a3-314d-42b7-ac76-a33d9c0eeee3",
   "metadata": {},
   "outputs": [],
   "source": [
    "#net.setP4Source('s1','l2_forwarding.p4')"
   ]
  },
  {
   "cell_type": "code",
   "execution_count": 6,
   "id": "bf7c4d1f-49b7-4415-bf22-866b20eeb876",
   "metadata": {},
   "outputs": [
    {
     "data": {
      "text/plain": [
       "1"
      ]
     },
     "execution_count": 6,
     "metadata": {},
     "output_type": "execute_result"
    }
   ],
   "source": [
    "net.addLink('s1', 'h1')\n",
    "net.addLink('s1', 'h2')\n",
    "net.addLink('s1', 'h3')\n",
    "net.addLink('s1', 'h4')"
   ]
  },
  {
   "cell_type": "code",
   "execution_count": 7,
   "id": "27d053a1-56b2-451f-b4a7-885282305d55",
   "metadata": {},
   "outputs": [
    {
     "data": {
      "text/plain": [
       "1"
      ]
     },
     "execution_count": 7,
     "metadata": {},
     "output_type": "execute_result"
    }
   ],
   "source": [
    "net.setIntfPort('s1', 'h1', 1)  # Set the number of the port on s1 facing h1\n",
    "net.setIntfPort('h1', 's1', 0)  # Set the number of the port on h1 facing s1\n",
    "net.setIntfPort('s1', 'h2', 2)  # Set the number of the port on s1 facing h2\n",
    "net.setIntfPort('h2', 's1', 0)  # Set the number of the port on h2 facing s1\n",
    "net.setIntfPort('s1', 'h3', 3)  # Set the number of the port on s1 facing h3\n",
    "net.setIntfPort('h3', 's1', 0)  # Set the number of the port on h3 facing s1\n",
    "net.setIntfPort('s1', 'h4', 4)  # Set the number of the port on s1 facing h4\n",
    "net.setIntfPort('h4', 's1', 0)  # Set the number of the port on h4 facing s1"
   ]
  },
  {
   "cell_type": "code",
   "execution_count": 8,
   "id": "bd5247ea-46a8-4005-afc9-a9aaee004ffa",
   "metadata": {},
   "outputs": [],
   "source": [
    "net.setBwAll(5)"
   ]
  },
  {
   "cell_type": "code",
   "execution_count": 9,
   "id": "8c4ec042-4033-482d-9fc2-771cbb9ff3d4",
   "metadata": {},
   "outputs": [],
   "source": [
    "net.l2()"
   ]
  },
  {
   "cell_type": "code",
   "execution_count": 10,
   "id": "e9b2d5bc-9e2c-4e14-9171-88192a493cd2",
   "metadata": {},
   "outputs": [],
   "source": [
    "net.enablePcapDumpAll()\n",
    "net.enableLogAll()"
   ]
  },
  {
   "cell_type": "code",
   "execution_count": 11,
   "id": "ee05e820-fcde-4456-9d08-04250f7b8c62",
   "metadata": {},
   "outputs": [
    {
     "name": "stderr",
     "output_type": "stream",
     "text": [
      "\u001b[0m*** Removing excess controllers/ofprotocols/ofdatapaths/pings/noxes\u001b[0m\n",
      "\u001b[0mkillall controller ofprotocol ofdatapath ping nox_core lt-nox_core ovs-openflowd ovs-controller ovs-testcontroller udpbwtest mnexec ivs ryu-manager  2> /dev/null\u001b[0m\n",
      "\u001b[0mkillall -9 controller ofprotocol ofdatapath ping nox_core lt-nox_core ovs-openflowd ovs-controller ovs-testcontroller udpbwtest mnexec ivs ryu-manager  2> /dev/null\u001b[0m\n",
      "\u001b[0mpkill -9 -f \"sudo mnexec\"\u001b[0m\n",
      "\u001b[0m*** Removing junk from /tmp\u001b[0m\n",
      "\u001b[0mrm -f /tmp/vconn* /tmp/vlogs* /tmp/*.out /tmp/*.log\u001b[0m\n",
      "\u001b[0m*** Removing old X11 tunnels\u001b[0m\n",
      "\u001b[0m*** Removing excess kernel datapaths\u001b[0m\n",
      "\u001b[0mps ax | egrep -o 'dp[0-9]+' | sed 's/dp/nl:/'\u001b[0m\n",
      "\u001b[0m***  Removing OVS datapaths\u001b[0m\n",
      "\u001b[0movs-vsctl --timeout=1 list-br\u001b[0m\n",
      "ovs-vsctl: unix:/var/run/openvswitch/db.sock: database connection failed (Permission denied)\n",
      "\u001b[0movs-vsctl --timeout=1 list-br\u001b[0m\n",
      "ovs-vsctl: unix:/var/run/openvswitch/db.sock: database connection failed (Permission denied)\u001b[0m*** Removing all links of the pattern foo-ethX\u001b[0m\n",
      "\n",
      "\u001b[0mip link show | egrep -o '([-_.[:alnum:]]+-eth[[:digit:]]+)'\u001b[0m\n",
      "\u001b[0mip link show\u001b[0m\n",
      "\u001b[0m*** Killing stale mininet node processes\u001b[0m\n",
      "\u001b[0mpkill -9 -f mininet:\u001b[0m\n",
      "\u001b[0m*** Shutting down stale tunnels\u001b[0m\n",
      "\u001b[0mpkill -9 -f Tunnel=Ethernet\u001b[0m\n",
      "\u001b[0mpkill -9 -f .ssh/mn\u001b[0m\n",
      "\u001b[0mrm -f ~/.ssh/mn/*\u001b[0m\n",
      "\u001b[0m*** Cleanup complete.\u001b[0m\n",
      "\u001b[0mbrctl show | awk 'FNR > 1 {print $1}'\u001b[0m\n",
      "\u001b[0mCompiling P4 files...\u001b[0m\n",
      "\u001b[01mP4 Files compiled!\u001b[0m\n",
      "\u001b[01mPort mapping:\u001b[0m\n",
      "\u001b[01mh1:  \u001b[0m\u001b[01m0:s1\t \u001b[0m\u001b[01m\u001b[0m\n",
      "\u001b[01mh2:  \u001b[0m\u001b[01m0:s1\t \u001b[0m\u001b[01m\u001b[0m\n",
      "\u001b[01mh3:  \u001b[0m\u001b[01m0:s1\t \u001b[0m\u001b[01m\u001b[0m\n",
      "\u001b[01mh4:  \u001b[0m\u001b[01m0:s1\t \u001b[0m\u001b[01m\u001b[0m\n",
      "\u001b[01ms1:  \u001b[0m\u001b[01m1:h1\t \u001b[0m\u001b[01m2:h2\t \u001b[0m\u001b[01m3:h3\t \u001b[0m\u001b[01m4:h4\t \u001b[0m\u001b[01m\u001b[0m\n",
      "\u001b[0mCreating network...\u001b[0m\n",
      "\u001b[01m\u001b[31m*** Mininet must run as root.\u001b[0m\n"
     ]
    },
    {
     "ename": "SystemExit",
     "evalue": "1",
     "output_type": "error",
     "traceback": [
      "An exception has occurred, use %tb to see the full traceback.\n",
      "\u001b[0;31mSystemExit\u001b[0m\u001b[0;31m:\u001b[0m 1\n"
     ]
    },
    {
     "name": "stderr",
     "output_type": "stream",
     "text": [
      "/usr/local/lib/python3.8/dist-packages/IPython/core/interactiveshell.py:3516: UserWarning: To exit: use 'exit', 'quit', or Ctrl-D.\n",
      "  warn(\"To exit: use 'exit', 'quit', or Ctrl-D.\", stacklevel=1)\n"
     ]
    }
   ],
   "source": [
    "net.enableCli()\n",
    "net.startNetwork()"
   ]
  },
  {
   "cell_type": "code",
   "execution_count": null,
   "id": "8d0ebb82-ecae-4501-9aea-9725a558be5c",
   "metadata": {},
   "outputs": [],
   "source": []
  }
 ],
 "metadata": {
  "kernelspec": {
   "display_name": "Python 3 (ipykernel)",
   "language": "python",
   "name": "python3"
  },
  "language_info": {
   "codemirror_mode": {
    "name": "ipython",
    "version": 3
   },
   "file_extension": ".py",
   "mimetype": "text/x-python",
   "name": "python",
   "nbconvert_exporter": "python",
   "pygments_lexer": "ipython3",
   "version": "3.8.10"
  }
 },
 "nbformat": 4,
 "nbformat_minor": 5
}
