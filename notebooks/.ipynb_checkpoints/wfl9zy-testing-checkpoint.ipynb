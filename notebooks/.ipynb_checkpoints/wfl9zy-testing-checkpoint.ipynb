{
 "cells": [
  {
   "cell_type": "code",
   "execution_count": 1,
   "id": "07e939ed-fe2b-4630-8039-06543bae68e7",
   "metadata": {},
   "outputs": [],
   "source": [
    "from p4utils.mininetlib.network_API import NetworkAPI"
   ]
  },
  {
   "cell_type": "code",
   "execution_count": 2,
   "id": "b4e186fd-fb45-4503-9c29-893e42fa576b",
   "metadata": {},
   "outputs": [],
   "source": [
    "net = NetworkAPI()"
   ]
  },
  {
   "cell_type": "code",
   "execution_count": 4,
   "id": "995b2d01-7261-4736-ade6-86eedcae6585",
   "metadata": {},
   "outputs": [],
   "source": [
    "net.setLogLevel('info')"
   ]
  },
  {
   "cell_type": "code",
   "execution_count": 5,
   "id": "1aff8baa-2d60-4208-8284-ecb56b9a7cad",
   "metadata": {},
   "outputs": [
    {
     "data": {
      "text/plain": [
       "'h4'"
      ]
     },
     "execution_count": 5,
     "metadata": {},
     "output_type": "execute_result"
    }
   ],
   "source": [
    "net.addP4Switch('s1')\n",
    "net.addHost('h1')\n",
    "net.addHost('h2')\n",
    "net.addHost('h3')\n",
    "net.addHost('h4')"
   ]
  },
  {
   "cell_type": "code",
   "execution_count": 6,
   "id": "121769a3-314d-42b7-ac76-a33d9c0eeee3",
   "metadata": {},
   "outputs": [],
   "source": [
    "#net.setP4Source('s1','l2_forwarding.p4')"
   ]
  },
  {
   "cell_type": "code",
   "execution_count": 7,
   "id": "bf7c4d1f-49b7-4415-bf22-866b20eeb876",
   "metadata": {},
   "outputs": [
    {
     "data": {
      "text/plain": [
       "1"
      ]
     },
     "execution_count": 7,
     "metadata": {},
     "output_type": "execute_result"
    }
   ],
   "source": [
    "net.addLink('s1', 'h1')\n",
    "net.addLink('s1', 'h2')\n",
    "net.addLink('s1', 'h3')\n",
    "net.addLink('s1', 'h4')"
   ]
  },
  {
   "cell_type": "code",
   "execution_count": 8,
   "id": "27d053a1-56b2-451f-b4a7-885282305d55",
   "metadata": {},
   "outputs": [
    {
     "data": {
      "text/plain": [
       "1"
      ]
     },
     "execution_count": 8,
     "metadata": {},
     "output_type": "execute_result"
    }
   ],
   "source": [
    "net.setIntfPort('s1', 'h1', 1)  # Set the number of the port on s1 facing h1\n",
    "net.setIntfPort('h1', 's1', 0)  # Set the number of the port on h1 facing s1\n",
    "net.setIntfPort('s1', 'h2', 2)  # Set the number of the port on s1 facing h2\n",
    "net.setIntfPort('h2', 's1', 0)  # Set the number of the port on h2 facing s1\n",
    "net.setIntfPort('s1', 'h3', 3)  # Set the number of the port on s1 facing h3\n",
    "net.setIntfPort('h3', 's1', 0)  # Set the number of the port on h3 facing s1\n",
    "net.setIntfPort('s1', 'h4', 4)  # Set the number of the port on s1 facing h4\n",
    "net.setIntfPort('h4', 's1', 0)  # Set the number of the port on h4 facing s1"
   ]
  },
  {
   "cell_type": "code",
   "execution_count": 10,
   "id": "bd5247ea-46a8-4005-afc9-a9aaee004ffa",
   "metadata": {},
   "outputs": [],
   "source": [
    "net.setBwAll(5)"
   ]
  },
  {
   "cell_type": "code",
   "execution_count": 11,
   "id": "8c4ec042-4033-482d-9fc2-771cbb9ff3d4",
   "metadata": {},
   "outputs": [],
   "source": [
    "net.l2()"
   ]
  },
  {
   "cell_type": "code",
   "execution_count": 12,
   "id": "e9b2d5bc-9e2c-4e14-9171-88192a493cd2",
   "metadata": {},
   "outputs": [],
   "source": [
    "net.enablePcapDumpAll()\n",
    "net.enableLogAll()"
   ]
  },
  {
   "cell_type": "code",
   "execution_count": 13,
   "id": "ee05e820-fcde-4456-9d08-04250f7b8c62",
   "metadata": {},
   "outputs": [
    {
     "name": "stderr",
     "output_type": "stream",
     "text": [
      "\u001b[0m*** Removing excess controllers/ofprotocols/ofdatapaths/pings/noxes\u001b[0m\n",
      "\u001b[0mkillall controller ofprotocol ofdatapath ping nox_core lt-nox_core ovs-openflowd ovs-controller ovs-testcontroller udpbwtest mnexec ivs ryu-manager  2> /dev/null\u001b[0m\n",
      "\u001b[0mkillall -9 controller ofprotocol ofdatapath ping nox_core lt-nox_core ovs-openflowd ovs-controller ovs-testcontroller udpbwtest mnexec ivs ryu-manager  2> /dev/null\u001b[0m\n",
      "\u001b[0mpkill -9 -f \"sudo mnexec\"\u001b[0m\n",
      "\u001b[0m*** Removing junk from /tmp\u001b[0m\n",
      "\u001b[0mrm -f /tmp/vconn* /tmp/vlogs* /tmp/*.out /tmp/*.log\u001b[0m\n",
      "\u001b[0m*** Removing old X11 tunnels\u001b[0m\n",
      "\u001b[0m*** Removing excess kernel datapaths\u001b[0m\n",
      "\u001b[0mps ax | egrep -o 'dp[0-9]+' | sed 's/dp/nl:/'\u001b[0m\n",
      "\u001b[0m***  Removing OVS datapaths\u001b[0m\n",
      "\u001b[0movs-vsctl --timeout=1 list-br\u001b[0m\n",
      "ovs-vsctl: \u001b[0movs-vsctl --timeout=1 list-br\u001b[0m\n",
      "unix:/var/run/openvswitch/db.sock: database connection failed (Permission denied)\n",
      "ovs-vsctl: unix:/var/run/openvswitch/db.sock: database connection failed (Permission denied)\n",
      "\u001b[0m*** Removing all links of the pattern foo-ethX\u001b[0m\n",
      "\u001b[0mip link show | egrep -o '([-_.[:alnum:]]+-eth[[:digit:]]+)'\u001b[0m\n",
      "\u001b[0mip link show\u001b[0m\n",
      "\u001b[0m*** Killing stale mininet node processes\u001b[0m\n",
      "\u001b[0mpkill -9 -f mininet:\u001b[0m\n",
      "\u001b[0m*** Shutting down stale tunnels\u001b[0m\n",
      "\u001b[0mpkill -9 -f Tunnel=Ethernet\u001b[0m\n",
      "\u001b[0mpkill -9 -f .ssh/mn\u001b[0m\n",
      "\u001b[0mrm -f ~/.ssh/mn/*\u001b[0m\n",
      "\u001b[0m*** Cleanup complete.\u001b[0m\n",
      "\u001b[0mbrctl show | awk 'FNR > 1 {print $1}'\u001b[0m\n",
      "\u001b[0mCompiling P4 files...\u001b[0m\n"
     ]
    },
    {
     "ename": "FileNotFoundError",
     "evalue": "could not find file l2_forwarding.p4.",
     "output_type": "error",
     "traceback": [
      "\u001b[0;31m---------------------------------------------------------------------------\u001b[0m",
      "\u001b[0;31mFileNotFoundError\u001b[0m                         Traceback (most recent call last)",
      "Cell \u001b[0;32mIn[13], line 2\u001b[0m\n\u001b[1;32m      1\u001b[0m net\u001b[38;5;241m.\u001b[39menableCli()\n\u001b[0;32m----> 2\u001b[0m \u001b[43mnet\u001b[49m\u001b[38;5;241;43m.\u001b[39;49m\u001b[43mstartNetwork\u001b[49m\u001b[43m(\u001b[49m\u001b[43m)\u001b[49m\n",
      "File \u001b[0;32m~/p4-tools/p4-utils/p4utils/mininetlib/network_API.py:1109\u001b[0m, in \u001b[0;36mNetworkAPI.startNetwork\u001b[0;34m(self)\u001b[0m\n\u001b[1;32m   1106\u001b[0m \u001b[38;5;28mself\u001b[39m\u001b[38;5;241m.\u001b[39mauto_assignment()\n\u001b[1;32m   1108\u001b[0m info(\u001b[38;5;124m'\u001b[39m\u001b[38;5;124mCompiling P4 files...\u001b[39m\u001b[38;5;130;01m\\n\u001b[39;00m\u001b[38;5;124m'\u001b[39m)\n\u001b[0;32m-> 1109\u001b[0m \u001b[38;5;28;43mself\u001b[39;49m\u001b[38;5;241;43m.\u001b[39;49m\u001b[43mcompile\u001b[49m\u001b[43m(\u001b[49m\u001b[43m)\u001b[49m\n\u001b[1;32m   1110\u001b[0m output(\u001b[38;5;124m'\u001b[39m\u001b[38;5;124mP4 Files compiled!\u001b[39m\u001b[38;5;130;01m\\n\u001b[39;00m\u001b[38;5;124m'\u001b[39m)\n\u001b[1;32m   1112\u001b[0m \u001b[38;5;28mself\u001b[39m\u001b[38;5;241m.\u001b[39mprintPortMapping()\n",
      "File \u001b[0;32m~/p4-tools/p4-utils/p4utils/mininetlib/network_API.py:241\u001b[0m, in \u001b[0;36mNetworkAPI.compile\u001b[0;34m(self)\u001b[0m\n\u001b[1;32m    239\u001b[0m \u001b[38;5;28;01mif\u001b[39;00m p4_src \u001b[38;5;129;01mis\u001b[39;00m \u001b[38;5;129;01mnot\u001b[39;00m \u001b[38;5;28;01mNone\u001b[39;00m:\n\u001b[1;32m    240\u001b[0m     \u001b[38;5;28;01mif\u001b[39;00m \u001b[38;5;129;01mnot\u001b[39;00m is_compiled(os\u001b[38;5;241m.\u001b[39mpath\u001b[38;5;241m.\u001b[39mrealpath(p4_src), \u001b[38;5;28mself\u001b[39m\u001b[38;5;241m.\u001b[39mcompilers):\n\u001b[0;32m--> 241\u001b[0m         compiler \u001b[38;5;241m=\u001b[39m \u001b[38;5;28;43mself\u001b[39;49m\u001b[38;5;241;43m.\u001b[39;49m\u001b[43mmodule\u001b[49m\u001b[43m(\u001b[49m\u001b[38;5;124;43m'\u001b[39;49m\u001b[38;5;124;43mcomp\u001b[39;49m\u001b[38;5;124;43m'\u001b[39;49m\u001b[43m,\u001b[49m\u001b[43m \u001b[49m\u001b[43mp4_src\u001b[49m\u001b[43m)\u001b[49m\n\u001b[1;32m    242\u001b[0m         compiler\u001b[38;5;241m.\u001b[39mcompile()\n\u001b[1;32m    243\u001b[0m         \u001b[38;5;28mself\u001b[39m\u001b[38;5;241m.\u001b[39mcompilers\u001b[38;5;241m.\u001b[39mappend(compiler)\n",
      "File \u001b[0;32m~/p4-tools/p4-utils/p4utils/mininetlib/network_API.py:513\u001b[0m, in \u001b[0;36mNetworkAPI.module\u001b[0;34m(self, mod_name, *args, **kwargs)\u001b[0m\n\u001b[1;32m    511\u001b[0m \u001b[38;5;28;01mfor\u001b[39;00m key, value \u001b[38;5;129;01min\u001b[39;00m default_kwargs\u001b[38;5;241m.\u001b[39mitems():\n\u001b[1;32m    512\u001b[0m     kwargs\u001b[38;5;241m.\u001b[39msetdefault(key, value)\n\u001b[0;32m--> 513\u001b[0m \u001b[38;5;28;01mreturn\u001b[39;00m \u001b[43mdefault_class\u001b[49m\u001b[43m(\u001b[49m\u001b[38;5;241;43m*\u001b[39;49m\u001b[43margs\u001b[49m\u001b[43m,\u001b[49m\u001b[43m \u001b[49m\u001b[38;5;241;43m*\u001b[39;49m\u001b[38;5;241;43m*\u001b[39;49m\u001b[43mkwargs\u001b[49m\u001b[43m)\u001b[49m\n",
      "File \u001b[0;32m~/p4-tools/p4-utils/p4utils/utils/compiler.py:57\u001b[0m, in \u001b[0;36mP4C.__init__\u001b[0;34m(self, p4_src, p4c_bin, outdir, opts, p4rt, **kwargs)\u001b[0m\n\u001b[1;32m     55\u001b[0m         \u001b[38;5;28mself\u001b[39m\u001b[38;5;241m.\u001b[39mp4_src \u001b[38;5;241m=\u001b[39m os\u001b[38;5;241m.\u001b[39mpath\u001b[38;5;241m.\u001b[39mrealpath(p4_src)\n\u001b[1;32m     56\u001b[0m     \u001b[38;5;28;01melse\u001b[39;00m:\n\u001b[0;32m---> 57\u001b[0m          \u001b[38;5;28;01mraise\u001b[39;00m \u001b[38;5;167;01mFileNotFoundError\u001b[39;00m(\u001b[38;5;124m'\u001b[39m\u001b[38;5;124mcould not find file \u001b[39m\u001b[38;5;132;01m{}\u001b[39;00m\u001b[38;5;124m.\u001b[39m\u001b[38;5;124m'\u001b[39m\u001b[38;5;241m.\u001b[39mformat(p4_src))\n\u001b[1;32m     58\u001b[0m \u001b[38;5;28;01melse\u001b[39;00m:\n\u001b[1;32m     59\u001b[0m     \u001b[38;5;28;01mraise\u001b[39;00m \u001b[38;5;167;01mFileNotFoundError\u001b[39;00m(\u001b[38;5;124m'\u001b[39m\u001b[38;5;124mno source file provided.\u001b[39m\u001b[38;5;124m'\u001b[39m\u001b[38;5;241m.\u001b[39mformat(p4_src))\n",
      "\u001b[0;31mFileNotFoundError\u001b[0m: could not find file l2_forwarding.p4."
     ]
    }
   ],
   "source": [
    "net.enableCli()\n",
    "net.startNetwork()"
   ]
  },
  {
   "cell_type": "code",
   "execution_count": null,
   "id": "8d0ebb82-ecae-4501-9aea-9725a558be5c",
   "metadata": {},
   "outputs": [],
   "source": []
  }
 ],
 "metadata": {
  "kernelspec": {
   "display_name": "Python 3 (ipykernel)",
   "language": "python",
   "name": "python3"
  },
  "language_info": {
   "codemirror_mode": {
    "name": "ipython",
    "version": 3
   },
   "file_extension": ".py",
   "mimetype": "text/x-python",
   "name": "python",
   "nbconvert_exporter": "python",
   "pygments_lexer": "ipython3",
   "version": "3.8.10"
  }
 },
 "nbformat": 4,
 "nbformat_minor": 5
}
